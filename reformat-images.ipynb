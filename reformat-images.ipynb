{
 "cells": [
  {
   "cell_type": "code",
   "execution_count": 7,
   "metadata": {},
   "outputs": [
    {
     "name": "stdout",
     "output_type": "stream",
     "text": [
      "17088\n"
     ]
    }
   ],
   "source": [
    "import os\n",
    "import glob\n",
    "\n",
    "\n",
    "def find_images(directory):\n",
    "    # List to store paths of images\n",
    "    image_list = []\n",
    "    # Supported image extensions\n",
    "    extensions = [\"*.jpeg\"]\n",
    "\n",
    "    # Walk through directory\n",
    "    for root, dirs, files in os.walk(directory):\n",
    "        for extension in extensions:\n",
    "            # Use glob to find files with the right extension\n",
    "            image_list.extend(glob.glob(os.path.join(root, extension)))\n",
    "\n",
    "    return image_list\n",
    "\n",
    "\n",
    "# Path to the directory\n",
    "directory_path = \"/Volumes/ThirdHeart/Github-Y/gameplay-videos/grouped_dataset\"\n",
    "images = find_images(directory_path)\n",
    "print(len(images))"
   ]
  },
  {
   "cell_type": "code",
   "execution_count": 8,
   "metadata": {},
   "outputs": [],
   "source": [
    "# import os\n",
    "# import glob\n",
    "# from PIL import Image\n",
    "\n",
    "\n",
    "# def find_images(directory):\n",
    "#     # List to store paths of images\n",
    "#     image_list = []\n",
    "#     # Supported image extensions\n",
    "#     extensions = [\n",
    "#         \"*.jpeg\",\n",
    "#         \"*.jpg\",\n",
    "#         \"*.png\",\n",
    "#         \"*.bmp\",\n",
    "#     ]  # Include other common formats to check\n",
    "\n",
    "#     # Walk through directory\n",
    "#     for root, dirs, files in os.walk(directory):\n",
    "#         for extension in extensions:\n",
    "#             # Use glob to find files with the right extension\n",
    "#             image_list.extend(glob.glob(os.path.join(root, extension)))\n",
    "\n",
    "#     return image_list\n",
    "\n",
    "\n",
    "# def convert_to_jpeg(image_list):\n",
    "#     for image_path in image_list:\n",
    "#         with Image.open(image_path) as img:\n",
    "#             # Convert image to RGB to avoid issues with RGBA or other modes when saving as JPEG\n",
    "#             rgb_img = img.convert(\"RGB\")\n",
    "#             # Save the image as JPEG with quality 'maximum' to avoid compression\n",
    "#             rgb_img.save(image_path, \"JPEG\", quality=100)\n",
    "\n",
    "\n",
    "# # Path to the directory\n",
    "# directory_path = \"/Volumes/ThirdHeart/Github-Y/gameplay-videos/grouped_dataset\"\n",
    "# images = find_images(directory_path)\n",
    "# convert_to_jpeg(images)\n",
    "# print(f\"Processed {len(images)} images.\")"
   ]
  },
  {
   "cell_type": "code",
   "execution_count": null,
   "metadata": {},
   "outputs": [],
   "source": [
    "import os\n",
    "import glob\n",
    "from PIL import Image\n",
    "from tqdm import tqdm\n",
    "from multiprocessing import Pool\n",
    "\n",
    "def find_images(directory):\n",
    "    # List to store paths of images\n",
    "    image_list = []\n",
    "    # Supported image extensions\n",
    "    extensions = [\"*.jpeg\", \"*.jpg\", \"*.png\", \"*.bmp\"]  # Include other common formats to check\n",
    "\n",
    "    # Walk through directory\n",
    "    for root, dirs, files in os.walk(directory):\n",
    "        for extension in extensions:\n",
    "            # Use glob to find files with the right extension\n",
    "            image_list.extend(glob.glob(os.path.join(root, extension)))\n",
    "\n",
    "    return image_list\n",
    "\n",
    "def convert_to_jpeg(image_path):\n",
    "    with Image.open(image_path) as img:\n",
    "        # Convert image to RGB to avoid issues with RGBA or other modes when saving as JPEG\n",
    "        rgb_img = img.convert('RGB')\n",
    "        # Save the image as JPEG with quality 'maximum' to avoid compression\n",
    "        rgb_img.save(image_path, 'JPEG', quality=100)\n",
    "\n",
    "def process_images(image_list):\n",
    "    # Use Pool to utilize multiple cores\n",
    "    with Pool() as pool:\n",
    "        list(tqdm(pool.imap(convert_to_jpeg, image_list), total=len(image_list)))\n",
    "\n",
    "# Path to the directory\n",
    "directory_path = \"/Volumes/ThirdHeart/Github-Y/gameplay-videos/grouped_dataset\"\n",
    "images = find_images(directory_path)\n",
    "process_images(images)\n",
    "print(f\"Processed {len(images)} images.\")"
   ]
  },
  {
   "cell_type": "code",
   "execution_count": null,
   "metadata": {},
   "outputs": [],
   "source": []
  },
  {
   "cell_type": "code",
   "execution_count": 3,
   "metadata": {},
   "outputs": [
    {
     "name": "stderr",
     "output_type": "stream",
     "text": [
      "100%|██████████| 17088/17088 [00:01<00:00, 13906.71it/s]"
     ]
    },
    {
     "name": "stdout",
     "output_type": "stream",
     "text": [
      "Verified 17088 images.\n"
     ]
    },
    {
     "name": "stderr",
     "output_type": "stream",
     "text": [
      "\n"
     ]
    }
   ],
   "source": [
    "import os\n",
    "import glob\n",
    "from PIL import Image\n",
    "from tqdm import tqdm\n",
    "from concurrent.futures import ThreadPoolExecutor\n",
    "\n",
    "\n",
    "def find_images(directory):\n",
    "    image_list = []\n",
    "    extensions = [\"*.jpeg\", \"*.jpg\", \"*.png\", \"*.bmp\"]\n",
    "    for root, dirs, files in os.walk(directory):\n",
    "        for extension in extensions:\n",
    "            image_list.extend(glob.glob(os.path.join(root, extension)))\n",
    "    return image_list\n",
    "\n",
    "\n",
    "def verify_jpeg(image_path):\n",
    "    try:\n",
    "        with Image.open(image_path) as img:\n",
    "            if img.format != \"JPEG\":\n",
    "                print(f\"Non-JPEG file found: {image_path}\")\n",
    "    except IOError:\n",
    "        print(f\"Cannot open/read file: {image_path}\")\n",
    "\n",
    "\n",
    "def process_images(image_list):\n",
    "    with ThreadPoolExecutor() as executor:\n",
    "        list(tqdm(executor.map(verify_jpeg, image_list), total=len(image_list)))\n",
    "\n",
    "\n",
    "directory_path = \"/Volumes/ThirdHeart/Github-Y/gameplay-videos/grouped_dataset\"\n",
    "images = find_images(directory_path)\n",
    "process_images(images)\n",
    "print(f\"Verified {len(images)} images.\")"
   ]
  },
  {
   "cell_type": "code",
   "execution_count": 7,
   "metadata": {},
   "outputs": [
    {
     "name": "stderr",
     "output_type": "stream",
     "text": [
      "100%|██████████| 17088/17088 [01:37<00:00, 175.54it/s]"
     ]
    },
    {
     "name": "stdout",
     "output_type": "stream",
     "text": [
      "Re-encoded 17088 images.\n"
     ]
    },
    {
     "name": "stderr",
     "output_type": "stream",
     "text": [
      "\n"
     ]
    }
   ],
   "source": [
    "import os\n",
    "import glob\n",
    "from PIL import Image\n",
    "from tqdm import tqdm\n",
    "from concurrent.futures import ThreadPoolExecutor\n",
    "\n",
    "\n",
    "def find_images(directory):\n",
    "    image_list = []\n",
    "    extensions = [\"*.jpeg\", \"*.jpg\", \"*.png\", \"*.bmp\"]\n",
    "    for root, dirs, files in os.walk(directory):\n",
    "        for extension in extensions:\n",
    "            image_list.extend(glob.glob(os.path.join(root, extension)))\n",
    "    return image_list\n",
    "\n",
    "\n",
    "def reencode_jpeg(image_path):\n",
    "    try:\n",
    "        with Image.open(image_path) as img:\n",
    "            # Convert image to RGB to avoid issues with RGBA or other modes\n",
    "            rgb_img = img.convert(\"RGB\")\n",
    "            # Save the image as JPEG with a high quality to minimize loss\n",
    "            rgb_img.save(\n",
    "                image_path, \"JPEG\", quality=85\n",
    "            )  # A high quality value that generally preserves detail well\n",
    "    except IOError:\n",
    "        print(f\"Cannot open/read file: {image_path}\")\n",
    "\n",
    "\n",
    "def process_images(image_list):\n",
    "    with ThreadPoolExecutor() as executor:\n",
    "        list(tqdm(executor.map(reencode_jpeg, image_list), total=len(image_list)))\n",
    "\n",
    "\n",
    "directory_path = \"/Volumes/ThirdHeart/Github-Y/gameplay-videos/grouped_dataset\"\n",
    "images = find_images(directory_path)\n",
    "process_images(images)\n",
    "print(f\"Re-encoded {len(images)} images.\")"
   ]
  },
  {
   "cell_type": "code",
   "execution_count": null,
   "metadata": {},
   "outputs": [],
   "source": []
  },
  {
   "cell_type": "code",
   "execution_count": null,
   "metadata": {},
   "outputs": [],
   "source": []
  },
  {
   "cell_type": "code",
   "execution_count": null,
   "metadata": {},
   "outputs": [],
   "source": []
  },
  {
   "cell_type": "code",
   "execution_count": 10,
   "metadata": {},
   "outputs": [
    {
     "name": "stderr",
     "output_type": "stream",
     "text": [
      "100%|██████████| 17088/17088 [01:44<00:00, 163.11it/s]"
     ]
    },
    {
     "name": "stdout",
     "output_type": "stream",
     "text": [
      "Processed 17088 images.\n"
     ]
    },
    {
     "name": "stderr",
     "output_type": "stream",
     "text": [
      "\n"
     ]
    }
   ],
   "source": [
    "import os\n",
    "import glob\n",
    "from PIL import Image\n",
    "from tqdm import tqdm\n",
    "from concurrent.futures import ThreadPoolExecutor\n",
    "\n",
    "\n",
    "def find_images(directory):\n",
    "    image_list = []\n",
    "    extensions = [\"*.jpeg\", \"*.jpg\", \"*.png\", \"*.bmp\"]\n",
    "    for root, dirs, files in os.walk(directory):\n",
    "        for extension in extensions:\n",
    "            image_list.extend(glob.glob(os.path.join(root, extension)))\n",
    "    return image_list\n",
    "\n",
    "\n",
    "def reencode_jpeg(image_path):\n",
    "    max_width = 2560\n",
    "    max_height = 1440\n",
    "    try:\n",
    "        with Image.open(image_path) as img:\n",
    "            # Initialize a flag to determine if the image was resized\n",
    "            resized = False\n",
    "\n",
    "            # Check if the image exceeds the maximum dimensions\n",
    "            if img.width > max_width or img.height > max_height:\n",
    "                # Calculate the ratio to scale down\n",
    "                ratio = min(max_width / img.width, max_height / img.height)\n",
    "                new_width = int(img.width * ratio)\n",
    "                new_height = int(img.height * ratio)\n",
    "                # Resize the image\n",
    "                img = img.resize((new_width, new_height), Image.LANCZOS)\n",
    "                resized = True\n",
    "\n",
    "            # Convert image to RGB to avoid issues with RGBA or other modes\n",
    "            rgb_img = img.convert(\"RGB\")\n",
    "\n",
    "            # Save the image as JPEG with a high quality to minimize loss\n",
    "            # Only save if the image was resized to avoid unnecessary re-encoding\n",
    "            if resized:\n",
    "                rgb_img.save(\n",
    "                    image_path, \"JPEG\", quality=85\n",
    "                )  # A high quality value that generally preserves detail well\n",
    "    except IOError:\n",
    "        print(f\"Cannot open/read file: {image_path}\")\n",
    "\n",
    "\n",
    "def process_images(image_list):\n",
    "    with ThreadPoolExecutor() as executor:\n",
    "        list(tqdm(executor.map(reencode_jpeg, image_list), total=len(image_list)))\n",
    "\n",
    "\n",
    "directory_path = \"/Volumes/ThirdHeart/Github-Y/gameplay-videos/grouped_dataset\"\n",
    "images = find_images(directory_path)\n",
    "process_images(images)\n",
    "print(f\"Processed {len(images)} images.\")"
   ]
  },
  {
   "cell_type": "code",
   "execution_count": null,
   "metadata": {},
   "outputs": [],
   "source": []
  }
 ],
 "metadata": {
  "kernelspec": {
   "display_name": "defaulttorch2",
   "language": "python",
   "name": "python3"
  },
  "language_info": {
   "codemirror_mode": {
    "name": "ipython",
    "version": 3
   },
   "file_extension": ".py",
   "mimetype": "text/x-python",
   "name": "python",
   "nbconvert_exporter": "python",
   "pygments_lexer": "ipython3",
   "version": "3.10.9"
  }
 },
 "nbformat": 4,
 "nbformat_minor": 2
}
