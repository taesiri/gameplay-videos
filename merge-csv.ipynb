{
 "cells": [
  {
   "cell_type": "code",
   "execution_count": 1,
   "metadata": {},
   "outputs": [],
   "source": [
    "import os\n",
    "import pandas as pd\n",
    "\n",
    "# Directory containing the CSV files\n",
    "directory = \"model-outputs\"\n",
    "\n",
    "# Loop through all files in the directory\n",
    "for filename in os.listdir(directory):\n",
    "    if filename.endswith(\".csv\"):\n",
    "        # Construct full file path\n",
    "        file_path = os.path.join(directory, filename)\n",
    "        # Read the CSV file\n",
    "        df = pd.read_csv(file_path)\n",
    "\n",
    "        df[\"Model Path\"] = df[\"Model Path\"].str.split(\"/\").str[-1]\n",
    "        df[\"Image File URL\"] = df[\"Image File URL\"].str.replace(\n",
    "            \"https://gameplay.taesiri.xyz/\", \"./\"\n",
    "        )\n",
    "        # Convert DataFrame to JSON and save it\n",
    "        json_path = file_path.replace(\".csv\", \".json\")\n",
    "        df.to_json(json_path, orient=\"records\", lines=False)"
   ]
  },
  {
   "cell_type": "code",
   "execution_count": null,
   "metadata": {},
   "outputs": [],
   "source": []
  },
  {
   "cell_type": "code",
   "execution_count": 28,
   "metadata": {},
   "outputs": [],
   "source": [
    "import os\n",
    "import pandas as pd\n",
    "import json\n",
    "\n",
    "# Directory containing the CSV files\n",
    "directory = \"model-outputs\"\n",
    "\n",
    "# List to hold all data\n",
    "all_data = []\n",
    "\n",
    "# Loop through all files in the directory\n",
    "for filename in os.listdir(directory):\n",
    "    if filename.endswith(\".csv\"):\n",
    "        # Construct full file path\n",
    "        file_path = os.path.join(directory, filename)\n",
    "        # Read the CSV file\n",
    "        df = pd.read_csv(file_path)\n",
    "\n",
    "        df[\"Model Path\"] = df[\"Model Path\"].str.split(\"/\").str[-1]\n",
    "        df[\"Image File URL\"] = df[\"Image File URL\"].str.replace(\n",
    "            \"https://gameplay.taesiri.xyz/\", \"./\"\n",
    "        )\n",
    "\n",
    "        # Convert DataFrame to JSON\n",
    "        json_path = file_path.replace(\".csv\", \".json\")\n",
    "        df.to_json(json_path, orient=\"records\")\n",
    "\n",
    "        # Read the JSON file and append to all_data\n",
    "        with open(json_path, \"r\") as f:\n",
    "            data = json.load(f)\n",
    "            all_data.extend(data)\n",
    "\n",
    "# Write all_data to a final JSON file\n",
    "final_json_path = os.path.join(directory, \"merged_output.json\")\n",
    "with open(final_json_path, \"w\") as f:\n",
    "    json.dump(all_data, f, indent=4)"
   ]
  },
  {
   "cell_type": "code",
   "execution_count": null,
   "metadata": {},
   "outputs": [],
   "source": []
  },
  {
   "cell_type": "code",
   "execution_count": null,
   "metadata": {},
   "outputs": [],
   "source": []
  }
 ],
 "metadata": {
  "kernelspec": {
   "display_name": "defaulttorch2",
   "language": "python",
   "name": "python3"
  },
  "language_info": {
   "codemirror_mode": {
    "name": "ipython",
    "version": 3
   },
   "file_extension": ".py",
   "mimetype": "text/x-python",
   "name": "python",
   "nbconvert_exporter": "python",
   "pygments_lexer": "ipython3",
   "version": "3.10.9"
  }
 },
 "nbformat": 4,
 "nbformat_minor": 2
}
